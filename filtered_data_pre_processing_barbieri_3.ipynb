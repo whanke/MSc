{
 "cells": [
  {
   "cell_type": "code",
   "execution_count": 2,
   "metadata": {},
   "outputs": [],
   "source": [
    "import emoji \n",
    "import json\n",
    "import datetime\n",
    "import re\n",
    "from collections import Counter\n",
    "import timeit\n",
    "import os\n",
    "import pandas as pd\n",
    "import matplotlib.pyplot as plt\n",
    "import numpy as np\n",
    "\n",
    "file_path = \"C:\\\\MSc\\\\data_tweets_with_emoji_json.txt\""
   ]
  },
  {
   "cell_type": "code",
   "execution_count": 3,
   "metadata": {},
   "outputs": [
    {
     "name": "stdout",
     "output_type": "stream",
     "text": [
      "Open corpus file...\n",
      "Strip corpus...\n",
      "Load file as json...\n",
      "Dauer:  0:00:34.332802\n"
     ]
    }
   ],
   "source": [
    "print(\"Open corpus file...\")\n",
    "start_time = datetime.datetime.now()\n",
    "\n",
    "with open(file_path, \"r\") as file:\n",
    "    print(\"Strip corpus...\")\n",
    "    data = (line.strip() for line in file)\n",
    "    data_json = \"[{0}]\".format(','.join(data))\n",
    "    print(\"Load file as json...\")\n",
    "    data = json.loads(data_json)\n",
    "    \n",
    "end_time = datetime.datetime.now()\n",
    "print(\"Dauer: \", end_time - start_time)"
   ]
  },
  {
   "cell_type": "code",
   "execution_count": 8,
   "metadata": {},
   "outputs": [
    {
     "name": "stdout",
     "output_type": "stream",
     "text": [
      "<class 'pandas.core.frame.DataFrame'>\n",
      "RangeIndex: 392017 entries, 0 to 392016\n",
      "Data columns (total 3 columns):\n",
      "id_str                       392017 non-null object\n",
      "in_reply_to_status_id_str    5986 non-null object\n",
      "text                         392017 non-null object\n",
      "dtypes: object(3)\n",
      "memory usage: 9.0+ MB\n"
     ]
    }
   ],
   "source": [
    "df = pd.DataFrame(data, columns=['id_str','in_reply_to_status_id_str', 'text'])\n",
    "df.info()"
   ]
  },
  {
   "cell_type": "code",
   "execution_count": 9,
   "metadata": {},
   "outputs": [
    {
     "data": {
      "text/html": [
       "<div>\n",
       "<style scoped>\n",
       "    .dataframe tbody tr th:only-of-type {\n",
       "        vertical-align: middle;\n",
       "    }\n",
       "\n",
       "    .dataframe tbody tr th {\n",
       "        vertical-align: top;\n",
       "    }\n",
       "\n",
       "    .dataframe thead th {\n",
       "        text-align: right;\n",
       "    }\n",
       "</style>\n",
       "<table border=\"1\" class=\"dataframe\">\n",
       "  <thead>\n",
       "    <tr style=\"text-align: right;\">\n",
       "      <th></th>\n",
       "      <th>id_str</th>\n",
       "      <th>in_reply_to_status_id_str</th>\n",
       "      <th>text</th>\n",
       "    </tr>\n",
       "  </thead>\n",
       "  <tbody>\n",
       "    <tr>\n",
       "      <th>0</th>\n",
       "      <td>689736119580233728</td>\n",
       "      <td>None</td>\n",
       "      <td>LoL 😂 @ West Covina, California https://t.co/y...</td>\n",
       "    </tr>\n",
       "    <tr>\n",
       "      <th>1</th>\n",
       "      <td>812015924374974464</td>\n",
       "      <td>None</td>\n",
       "      <td>Things got a little festive at the office 🎄#ch...</td>\n",
       "    </tr>\n",
       "    <tr>\n",
       "      <th>2</th>\n",
       "      <td>801647284685373440</td>\n",
       "      <td>None</td>\n",
       "      <td>Step out and explore. #❤️ @ Ellis Island Cafe ...</td>\n",
       "    </tr>\n",
       "    <tr>\n",
       "      <th>3</th>\n",
       "      <td>781871095351828480</td>\n",
       "      <td>None</td>\n",
       "      <td>📸 @vinniehatestyle @ Cathedral Preparatory Sch...</td>\n",
       "    </tr>\n",
       "    <tr>\n",
       "      <th>4</th>\n",
       "      <td>714690241370660865</td>\n",
       "      <td>None</td>\n",
       "      <td>RuPaul's Drag Race bingo fun. Drag Queens be S...</td>\n",
       "    </tr>\n",
       "  </tbody>\n",
       "</table>\n",
       "</div>"
      ],
      "text/plain": [
       "               id_str in_reply_to_status_id_str  \\\n",
       "0  689736119580233728                      None   \n",
       "1  812015924374974464                      None   \n",
       "2  801647284685373440                      None   \n",
       "3  781871095351828480                      None   \n",
       "4  714690241370660865                      None   \n",
       "\n",
       "                                                text  \n",
       "0  LoL 😂 @ West Covina, California https://t.co/y...  \n",
       "1  Things got a little festive at the office 🎄#ch...  \n",
       "2  Step out and explore. #❤️ @ Ellis Island Cafe ...  \n",
       "3  📸 @vinniehatestyle @ Cathedral Preparatory Sch...  \n",
       "4  RuPaul's Drag Race bingo fun. Drag Queens be S...  "
      ]
     },
     "execution_count": 9,
     "metadata": {},
     "output_type": "execute_result"
    }
   ],
   "source": [
    "df.head()"
   ]
  },
  {
   "cell_type": "code",
   "execution_count": 10,
   "metadata": {},
   "outputs": [],
   "source": [
    "def extract_chars(my_str):     \n",
    "    return ''.join([c for c in my_str if not(c in emoji.UNICODE_EMOJI)])\n",
    "\n",
    "def anonymize_username(my_str):\n",
    "    anonymized_text = ['@username' if x.startswith('@') else x for x in list(my_str.split())]\n",
    "    return ' '.join(anonymized_text)\n",
    "\n",
    "def anonymize_hashtag(my_str): \n",
    "    return ' '.join(['#hashtag' if x.startswith('#') else x for x in list(my_str.split())])\n",
    "\n",
    "def delete_links(my_str): \n",
    "    return ' '.join(['' if x.startswith('https') else x for x in list(my_str.split())])\n",
    "# to do: hashtags und links entfernen\n",
    "\n",
    "df_clean_text = df['text'].apply(lambda x: delete_links(anonymize_hashtag(anonymize_username(extract_chars(x)))))"
   ]
  },
  {
   "cell_type": "code",
   "execution_count": 11,
   "metadata": {},
   "outputs": [],
   "source": [
    "def extract_emojis(my_str):\n",
    "    return ''.join(c for c in my_str if c in emoji.UNICODE_EMOJI)\n",
    "\n",
    "df_extr_emojis = df['text'].apply(lambda x: extract_emojis(x))"
   ]
  },
  {
   "cell_type": "code",
   "execution_count": 12,
   "metadata": {
    "scrolled": true
   },
   "outputs": [
    {
     "data": {
      "text/html": [
       "<div>\n",
       "<style scoped>\n",
       "    .dataframe tbody tr th:only-of-type {\n",
       "        vertical-align: middle;\n",
       "    }\n",
       "\n",
       "    .dataframe tbody tr th {\n",
       "        vertical-align: top;\n",
       "    }\n",
       "\n",
       "    .dataframe thead th {\n",
       "        text-align: right;\n",
       "    }\n",
       "</style>\n",
       "<table border=\"1\" class=\"dataframe\">\n",
       "  <thead>\n",
       "    <tr style=\"text-align: right;\">\n",
       "      <th></th>\n",
       "      <th>id_str</th>\n",
       "      <th>in_reply_to_status_id_str</th>\n",
       "      <th>text</th>\n",
       "      <th>clean_text</th>\n",
       "      <th>extr_emojis</th>\n",
       "    </tr>\n",
       "  </thead>\n",
       "  <tbody>\n",
       "    <tr>\n",
       "      <th>0</th>\n",
       "      <td>689736119580233728</td>\n",
       "      <td>None</td>\n",
       "      <td>LoL 😂 @ West Covina, California https://t.co/ylNndaC0ls</td>\n",
       "      <td>LoL @username West Covina, California</td>\n",
       "      <td>😂</td>\n",
       "    </tr>\n",
       "    <tr>\n",
       "      <th>1</th>\n",
       "      <td>812015924374974464</td>\n",
       "      <td>None</td>\n",
       "      <td>Things got a little festive at the office 🎄#christmas2016 @ RedRock… https://t.co/mE8HmWpJ40</td>\n",
       "      <td>Things got a little festive at the office #hashtag @username RedRock…</td>\n",
       "      <td>🎄</td>\n",
       "    </tr>\n",
       "    <tr>\n",
       "      <th>2</th>\n",
       "      <td>801647284685373440</td>\n",
       "      <td>None</td>\n",
       "      <td>Step out and explore. #❤️ @ Ellis Island Cafe https://t.co/mVOVCPXQRQ</td>\n",
       "      <td>Step out and explore. #hashtag @username Ellis Island Cafe</td>\n",
       "      <td>❤</td>\n",
       "    </tr>\n",
       "    <tr>\n",
       "      <th>3</th>\n",
       "      <td>781871095351828480</td>\n",
       "      <td>None</td>\n",
       "      <td>📸 @vinniehatestyle @ Cathedral Preparatory School https://t.co/SNLPazrrk2</td>\n",
       "      <td>@username @username Cathedral Preparatory School</td>\n",
       "      <td>📸</td>\n",
       "    </tr>\n",
       "    <tr>\n",
       "      <th>4</th>\n",
       "      <td>714690241370660865</td>\n",
       "      <td>None</td>\n",
       "      <td>RuPaul's Drag Race bingo fun. Drag Queens be SEXY! #rupaulsdragrace @fioelly abwyman 😘 #la… https://t.co/VC2M2uWmlp</td>\n",
       "      <td>RuPaul's Drag Race bingo fun. Drag Queens be SEXY! #hashtag @username abwyman #hashtag</td>\n",
       "      <td>😘</td>\n",
       "    </tr>\n",
       "  </tbody>\n",
       "</table>\n",
       "</div>"
      ],
      "text/plain": [
       "               id_str in_reply_to_status_id_str  \\\n",
       "0  689736119580233728  None                       \n",
       "1  812015924374974464  None                       \n",
       "2  801647284685373440  None                       \n",
       "3  781871095351828480  None                       \n",
       "4  714690241370660865  None                       \n",
       "\n",
       "                                                                                                                  text  \\\n",
       "0  LoL 😂 @ West Covina, California https://t.co/ylNndaC0ls                                                               \n",
       "1  Things got a little festive at the office 🎄#christmas2016 @ RedRock… https://t.co/mE8HmWpJ40                          \n",
       "2  Step out and explore. #❤️ @ Ellis Island Cafe https://t.co/mVOVCPXQRQ                                                 \n",
       "3  📸 @vinniehatestyle @ Cathedral Preparatory School https://t.co/SNLPazrrk2                                             \n",
       "4  RuPaul's Drag Race bingo fun. Drag Queens be SEXY! #rupaulsdragrace @fioelly abwyman 😘 #la… https://t.co/VC2M2uWmlp   \n",
       "\n",
       "                                                                                clean_text  \\\n",
       "0  LoL @username West Covina, California                                                     \n",
       "1  Things got a little festive at the office #hashtag @username RedRock…                     \n",
       "2  Step out and explore. #hashtag @username Ellis Island Cafe                                \n",
       "3  @username @username Cathedral Preparatory School                                          \n",
       "4  RuPaul's Drag Race bingo fun. Drag Queens be SEXY! #hashtag @username abwyman #hashtag    \n",
       "\n",
       "  extr_emojis  \n",
       "0  😂           \n",
       "1  🎄           \n",
       "2  ❤           \n",
       "3  📸           \n",
       "4  😘           "
      ]
     },
     "execution_count": 12,
     "metadata": {},
     "output_type": "execute_result"
    }
   ],
   "source": [
    "# unhide the strings in jupyter notebook\n",
    "pd.options.display.max_rows\n",
    "pd.set_option('display.max_colwidth', -1)\n",
    "\n",
    "# assign all new functions to df\n",
    "\n",
    "new_df = df.assign(clean_text = df_clean_text, extr_emojis = df_extr_emojis) # , langid = df_langid\n",
    "new_df.head()"
   ]
  },
  {
   "cell_type": "code",
   "execution_count": 13,
   "metadata": {},
   "outputs": [
    {
     "data": {
      "text/plain": [
       "392017"
      ]
     },
     "execution_count": 13,
     "metadata": {},
     "output_type": "execute_result"
    }
   ],
   "source": [
    "# rows only with emoji\n",
    "\n",
    "# len(df_emoji_rows.index) = 392017\n",
    "\n",
    "df_emoji_rows = new_df[new_df.extr_emojis != '']\n",
    "len(df_emoji_rows.index)"
   ]
  },
  {
   "cell_type": "code",
   "execution_count": 14,
   "metadata": {
    "collapsed": true
   },
   "outputs": [
    {
     "data": {
      "text/plain": [
       "❤    93270\n",
       "😍    39388\n",
       "😂    26317\n",
       "💕    24849\n",
       "😊    21511\n",
       "😎    20055\n",
       "📷    16379\n",
       "💙    14751\n",
       "✨    14616\n",
       "😘    13449\n",
       "📸    13414\n",
       "😉    13393\n",
       "☀    12532\n",
       "😜    11775\n",
       "🔥    11705\n",
       "🎄    11438\n",
       "😁    11301\n",
       "💜    10965\n",
       "💯    10909\n",
       "Name: extr_emojis, dtype: int64"
      ]
     },
     "execution_count": 14,
     "metadata": {},
     "output_type": "execute_result"
    }
   ],
   "source": [
    "# zählen der emoji vorkommen\n",
    "df_emoji_rows.extr_emojis.value_counts().head(20)"
   ]
  },
  {
   "cell_type": "code",
   "execution_count": 15,
   "metadata": {},
   "outputs": [
    {
     "data": {
      "text/html": [
       "<div>\n",
       "<style scoped>\n",
       "    .dataframe tbody tr th:only-of-type {\n",
       "        vertical-align: middle;\n",
       "    }\n",
       "\n",
       "    .dataframe tbody tr th {\n",
       "        vertical-align: top;\n",
       "    }\n",
       "\n",
       "    .dataframe thead th {\n",
       "        text-align: right;\n",
       "    }\n",
       "</style>\n",
       "<table border=\"1\" class=\"dataframe\">\n",
       "  <thead>\n",
       "    <tr style=\"text-align: right;\">\n",
       "      <th></th>\n",
       "      <th>emoji</th>\n",
       "      <th>Anzahl</th>\n",
       "      <th>Prozent</th>\n",
       "    </tr>\n",
       "  </thead>\n",
       "  <tbody>\n",
       "    <tr>\n",
       "      <th>0</th>\n",
       "      <td>❤</td>\n",
       "      <td>93270</td>\n",
       "      <td>23.792336</td>\n",
       "    </tr>\n",
       "    <tr>\n",
       "      <th>1</th>\n",
       "      <td>😍</td>\n",
       "      <td>39388</td>\n",
       "      <td>10.047523</td>\n",
       "    </tr>\n",
       "    <tr>\n",
       "      <th>2</th>\n",
       "      <td>😂</td>\n",
       "      <td>26317</td>\n",
       "      <td>6.713229</td>\n",
       "    </tr>\n",
       "    <tr>\n",
       "      <th>3</th>\n",
       "      <td>💕</td>\n",
       "      <td>24849</td>\n",
       "      <td>6.338756</td>\n",
       "    </tr>\n",
       "    <tr>\n",
       "      <th>4</th>\n",
       "      <td>😊</td>\n",
       "      <td>21511</td>\n",
       "      <td>5.487262</td>\n",
       "    </tr>\n",
       "    <tr>\n",
       "      <th>5</th>\n",
       "      <td>😎</td>\n",
       "      <td>20055</td>\n",
       "      <td>5.115850</td>\n",
       "    </tr>\n",
       "    <tr>\n",
       "      <th>6</th>\n",
       "      <td>📷</td>\n",
       "      <td>16379</td>\n",
       "      <td>4.178135</td>\n",
       "    </tr>\n",
       "    <tr>\n",
       "      <th>7</th>\n",
       "      <td>💙</td>\n",
       "      <td>14751</td>\n",
       "      <td>3.762847</td>\n",
       "    </tr>\n",
       "    <tr>\n",
       "      <th>8</th>\n",
       "      <td>✨</td>\n",
       "      <td>14616</td>\n",
       "      <td>3.728410</td>\n",
       "    </tr>\n",
       "    <tr>\n",
       "      <th>9</th>\n",
       "      <td>😘</td>\n",
       "      <td>13449</td>\n",
       "      <td>3.430719</td>\n",
       "    </tr>\n",
       "    <tr>\n",
       "      <th>10</th>\n",
       "      <td>📸</td>\n",
       "      <td>13414</td>\n",
       "      <td>3.421790</td>\n",
       "    </tr>\n",
       "    <tr>\n",
       "      <th>11</th>\n",
       "      <td>😉</td>\n",
       "      <td>13393</td>\n",
       "      <td>3.416433</td>\n",
       "    </tr>\n",
       "    <tr>\n",
       "      <th>12</th>\n",
       "      <td>☀</td>\n",
       "      <td>12532</td>\n",
       "      <td>3.196800</td>\n",
       "    </tr>\n",
       "    <tr>\n",
       "      <th>13</th>\n",
       "      <td>😜</td>\n",
       "      <td>11775</td>\n",
       "      <td>3.003696</td>\n",
       "    </tr>\n",
       "    <tr>\n",
       "      <th>14</th>\n",
       "      <td>🔥</td>\n",
       "      <td>11705</td>\n",
       "      <td>2.985840</td>\n",
       "    </tr>\n",
       "    <tr>\n",
       "      <th>15</th>\n",
       "      <td>🎄</td>\n",
       "      <td>11438</td>\n",
       "      <td>2.917731</td>\n",
       "    </tr>\n",
       "    <tr>\n",
       "      <th>16</th>\n",
       "      <td>😁</td>\n",
       "      <td>11301</td>\n",
       "      <td>2.882783</td>\n",
       "    </tr>\n",
       "    <tr>\n",
       "      <th>17</th>\n",
       "      <td>💜</td>\n",
       "      <td>10965</td>\n",
       "      <td>2.797073</td>\n",
       "    </tr>\n",
       "    <tr>\n",
       "      <th>18</th>\n",
       "      <td>💯</td>\n",
       "      <td>10909</td>\n",
       "      <td>2.782787</td>\n",
       "    </tr>\n",
       "  </tbody>\n",
       "</table>\n",
       "</div>"
      ],
      "text/plain": [
       "   emoji  Anzahl    Prozent\n",
       "0   ❤     93270   23.792336\n",
       "1   😍     39388   10.047523\n",
       "2   😂     26317   6.713229 \n",
       "3   💕     24849   6.338756 \n",
       "4   😊     21511   5.487262 \n",
       "5   😎     20055   5.115850 \n",
       "6   📷     16379   4.178135 \n",
       "7   💙     14751   3.762847 \n",
       "8   ✨     14616   3.728410 \n",
       "9   😘     13449   3.430719 \n",
       "10  📸     13414   3.421790 \n",
       "11  😉     13393   3.416433 \n",
       "12  ☀     12532   3.196800 \n",
       "13  😜     11775   3.003696 \n",
       "14  🔥     11705   2.985840 \n",
       "15  🎄     11438   2.917731 \n",
       "16  😁     11301   2.882783 \n",
       "17  💜     10965   2.797073 \n",
       "18  💯     10909   2.782787 "
      ]
     },
     "execution_count": 15,
     "metadata": {},
     "output_type": "execute_result"
    }
   ],
   "source": [
    "# percantage of TOP 20 Emoji_all\n",
    "\n",
    "series_emoji_all_top20 = df_emoji_rows.extr_emojis.value_counts().head(20)\n",
    "df_emoji_all_top20 = series_emoji_all_top20.to_frame()\n",
    "df_emoji_all_top20['emoji'] = df_emoji_all_top20.index\n",
    "df_emoji_all_top20['Anzahl'] = df_emoji_all_top20['extr_emojis']\n",
    "df_emoji_all_top20 = df_emoji_all_top20.drop(columns = 'extr_emojis')\n",
    "df_emoji_all_top20.reset_index(inplace=True)\n",
    "df_emoji_all_top20 = df_emoji_all_top20.drop(columns = 'index')\n",
    "df_emoji_all_top20['Prozent'] = df_emoji_all_top20['Anzahl']/df_emoji_all_top20['Anzahl'].sum() * 100\n",
    "df_emoji_all_top20_transpose = df_emoji_all_top20.transpose()\n",
    "df_emoji_all_top20"
   ]
  },
  {
   "cell_type": "code",
   "execution_count": 16,
   "metadata": {},
   "outputs": [
    {
     "data": {
      "text/plain": [
       "392017"
      ]
     },
     "execution_count": 16,
     "metadata": {},
     "output_type": "execute_result"
    }
   ],
   "source": [
    "df_emoji_all_top20['Anzahl'].sum()"
   ]
  },
  {
   "cell_type": "code",
   "execution_count": 18,
   "metadata": {},
   "outputs": [],
   "source": [
    "# changing matplotlib font\n",
    "\n",
    "# Along with matplotlib.pyplot, for this one\n",
    "# you also need to import matplotlib itself\n",
    "import matplotlib\n",
    "\n",
    "# Say, \"the default sans-serif font is COMIC SANS\"\n",
    "matplotlib.rcParams['font.sans-serif'] = \"Segoe UI Emoji\"\n",
    "# Then, \"ALWAYS use sans-serif fonts\"\n",
    "matplotlib.rcParams['font.family'] = \"sans-serif\""
   ]
  },
  {
   "cell_type": "code",
   "execution_count": 19,
   "metadata": {},
   "outputs": [
    {
     "data": {
      "text/plain": [
       "Text(0,0.5,'Anzahl')"
      ]
     },
     "execution_count": 19,
     "metadata": {},
     "output_type": "execute_result"
    },
    {
     "data": {
      "image/png": "[encoded data removed]",
      "text/plain": [
       "<matplotlib.figure.Figure at 0x17812bedeb8>"
      ]
     },
     "metadata": {},
     "output_type": "display_data"
    }
   ],
   "source": [
    "# vorkommen aller emoji\n",
    "df_emoji_rows.extr_emojis.value_counts().head(20).plot.bar()\n",
    "plt.xlabel('TOP 19 Emoji')\n",
    "plt.ylabel('Anzahl')\n",
    "\n",
    "plt.savefig('df_barbieri_vorkommen_emoji_alle.pdf', bbox_inches='tight')"
   ]
  },
  {
   "cell_type": "code",
   "execution_count": 20,
   "metadata": {},
   "outputs": [
    {
     "name": "stdout",
     "output_type": "stream",
     "text": [
      "Done.\n"
     ]
    }
   ],
   "source": [
    "# get initial and response emoji\n",
    "\n",
    "df_emoji = df_emoji_rows.copy()\n",
    "#df_emoji['in_reply_to_user_id_str'] = df_emoji['in_reply_to_user_id_str'].dropna().astype(np.int64)\n",
    "\n",
    "df_initial_tweets = df_emoji[df_emoji['in_reply_to_status_id_str'].isnull()] # tweets without reply_id\n",
    "df_response_tweets = df_emoji[~df_emoji['in_reply_to_status_id_str'].isnull()] # tweets with reply_id\n",
    "\n",
    "# transform datatype in \"in_reply_to_user_id_str\" from numpy.float64 to np.int64\n",
    "#df_emoji['in_reply_to_user_id_str'].dropna().astype(np.int64)\n",
    "conversations = []\n",
    "for reply_id in df_response_tweets['in_reply_to_status_id_str']:\n",
    "    if (df_initial_tweets['id_str'] == reply_id).any():\n",
    "        \n",
    "        #print('intial: ', df_initial_tweets[df_initial_tweets['id_str']== reply_id]['extr_emojis'])\n",
    "        initial = df_initial_tweets[df_initial_tweets['id_str']== reply_id]['extr_emojis']\n",
    "\n",
    "        #print('response :', df_response_tweets[df_response_tweets['in_reply_to_user_id_str']== reply_id]['extr_emojis'])\n",
    "        response = df_response_tweets[df_response_tweets['in_reply_to_status_id_str']== reply_id]['extr_emojis']\n",
    "\n",
    "        \n",
    "        tupl = (initial, response)\n",
    "        conversations.append(tupl)\n",
    "print('Done.')"
   ]
  },
  {
   "cell_type": "code",
   "execution_count": 21,
   "metadata": {},
   "outputs": [],
   "source": [
    "df_wip = pd.DataFrame.from_records(conversations, columns=['initial', 'response'])\n",
    "df_wip['initial']= df_wip['initial'].astype(str)\n",
    "df_wip['response']= df_wip['response'].astype(str)\n",
    "\n",
    "def extract_emojis(my_str):\n",
    "    return ''.join(c for c in my_str if c in emoji.UNICODE_EMOJI)\n",
    "\n",
    "\n",
    "df_extr_emojis_initial = df_wip['initial'].apply(lambda x: extract_emojis(x))\n",
    "df_extr_emojis_response = df_wip['response'].apply(lambda x: extract_emojis(x))\n",
    "df_conv = df_wip.assign(extr_emojis_initial = df_extr_emojis_initial, extr_emojis_response = df_extr_emojis_response)\n"
   ]
  },
  {
   "cell_type": "code",
   "execution_count": 23,
   "metadata": {},
   "outputs": [
    {
     "data": {
      "text/html": [
       "<div>\n",
       "<style scoped>\n",
       "    .dataframe tbody tr th:only-of-type {\n",
       "        vertical-align: middle;\n",
       "    }\n",
       "\n",
       "    .dataframe tbody tr th {\n",
       "        vertical-align: top;\n",
       "    }\n",
       "\n",
       "    .dataframe thead th {\n",
       "        text-align: right;\n",
       "    }\n",
       "</style>\n",
       "<table border=\"1\" class=\"dataframe\">\n",
       "  <thead>\n",
       "    <tr style=\"text-align: right;\">\n",
       "      <th></th>\n",
       "      <th>initial</th>\n",
       "      <th>response</th>\n",
       "      <th>extr_emojis_initial</th>\n",
       "      <th>extr_emojis_response</th>\n",
       "    </tr>\n",
       "  </thead>\n",
       "  <tbody>\n",
       "    <tr>\n",
       "      <th>0</th>\n",
       "      <td>20351    ❤\\nName: extr_emojis, dtype: object</td>\n",
       "      <td>68693    ❤\\nName: extr_emojis, dtype: object</td>\n",
       "      <td>❤</td>\n",
       "      <td>❤</td>\n",
       "    </tr>\n",
       "    <tr>\n",
       "      <th>1</th>\n",
       "      <td>294608    ❤\\nName: extr_emojis, dtype: object</td>\n",
       "      <td>349598    ❤\\nName: extr_emojis, dtype: object</td>\n",
       "      <td>❤</td>\n",
       "      <td>❤</td>\n",
       "    </tr>\n",
       "  </tbody>\n",
       "</table>\n",
       "</div>"
      ],
      "text/plain": [
       "                                         initial  \\\n",
       "0  20351    ❤\\nName: extr_emojis, dtype: object    \n",
       "1  294608    ❤\\nName: extr_emojis, dtype: object   \n",
       "\n",
       "                                        response extr_emojis_initial  \\\n",
       "0  68693    ❤\\nName: extr_emojis, dtype: object   ❤                    \n",
       "1  349598    ❤\\nName: extr_emojis, dtype: object  ❤                    \n",
       "\n",
       "  extr_emojis_response  \n",
       "0  ❤                    \n",
       "1  ❤                    "
      ]
     },
     "execution_count": 23,
     "metadata": {},
     "output_type": "execute_result"
    }
   ],
   "source": [
    "df_conv"
   ]
  }
 ],
 "metadata": {
  "kernelspec": {
   "display_name": "Python 3",
   "language": "python",
   "name": "python3"
  },
  "language_info": {
   "codemirror_mode": {
    "name": "ipython",
    "version": 3
   },
   "file_extension": ".py",
   "mimetype": "text/x-python",
   "name": "python",
   "nbconvert_exporter": "python",
   "pygments_lexer": "ipython3",
   "version": "3.6.4"
  }
 },
 "nbformat": 4,
 "nbformat_minor": 2
}
