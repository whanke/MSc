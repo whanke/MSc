{
 "cells": [
  {
   "cell_type": "code",
   "execution_count": 2,
   "metadata": {},
   "outputs": [],
   "source": [
    "import emoji \n",
    "import json\n",
    "import datetime\n",
    "import re\n",
    "from collections import Counter\n",
    "import timeit\n",
    "import os\n",
    "import pandas as pd\n",
    "import matplotlib.pyplot as plt\n",
    "import numpy as np\n",
    "import ijson\n",
    "\n",
    "file_path = \"data_tweets_with_emoji_json.txt\""
   ]
  },
  {
   "cell_type": "code",
   "execution_count": 3,
   "metadata": {},
   "outputs": [
    {
     "name": "stdout",
     "output_type": "stream",
     "text": [
      "Open corpus file...\n",
      "2018-04-26 15:33:50.801971\n"
     ]
    },
    {
     "ename": "FileNotFoundError",
     "evalue": "[Errno 2] No such file or directory: 'data_tweets_with_emoji_json.txt'",
     "output_type": "error",
     "traceback": [
      "\u001b[0;31m---------------------------------------------------------------------------\u001b[0m",
      "\u001b[0;31mFileNotFoundError\u001b[0m                         Traceback (most recent call last)",
      "\u001b[0;32m<ipython-input-3-b0772d670f24>\u001b[0m in \u001b[0;36m<module>\u001b[0;34m()\u001b[0m\n\u001b[1;32m      4\u001b[0m \u001b[0;34m\u001b[0m\u001b[0m\n\u001b[1;32m      5\u001b[0m \u001b[0;34m\u001b[0m\u001b[0m\n\u001b[0;32m----> 6\u001b[0;31m \u001b[0;32mwith\u001b[0m \u001b[0mopen\u001b[0m\u001b[0;34m(\u001b[0m\u001b[0mfile_path\u001b[0m\u001b[0;34m,\u001b[0m \u001b[0;34m\"r\"\u001b[0m\u001b[0;34m)\u001b[0m \u001b[0;32mas\u001b[0m \u001b[0mfile\u001b[0m\u001b[0;34m:\u001b[0m\u001b[0;34m\u001b[0m\u001b[0m\n\u001b[0m\u001b[1;32m      7\u001b[0m     \u001b[0mprint\u001b[0m\u001b[0;34m(\u001b[0m\u001b[0;34m\"Strip corpus...\"\u001b[0m\u001b[0;34m)\u001b[0m\u001b[0;34m\u001b[0m\u001b[0m\n\u001b[1;32m      8\u001b[0m     \u001b[0mdata\u001b[0m \u001b[0;34m=\u001b[0m \u001b[0;34m(\u001b[0m\u001b[0mline\u001b[0m\u001b[0;34m.\u001b[0m\u001b[0mstrip\u001b[0m\u001b[0;34m(\u001b[0m\u001b[0;34m)\u001b[0m \u001b[0;32mfor\u001b[0m \u001b[0mline\u001b[0m \u001b[0;32min\u001b[0m \u001b[0mfile\u001b[0m\u001b[0;34m)\u001b[0m\u001b[0;34m\u001b[0m\u001b[0m\n",
      "\u001b[0;31mFileNotFoundError\u001b[0m: [Errno 2] No such file or directory: 'data_tweets_with_emoji_json.txt'"
     ]
    }
   ],
   "source": [
    "print(\"Open corpus file...\")\n",
    "start_time = datetime.datetime.now()\n",
    "\n",
    "with open(file_path, \"r\") as file:\n",
    "    print(\"Strip corpus...\")\n",
    "    data = (line.strip() for line in file)\n",
    "    data_json = \"[{0}]\".format(','.join(data))\n",
    "    print(\"Load file as json...\")\n",
    "    data = json.loads(data_json)\n",
    "    \n",
    "    \n",
    "    \n",
    "# Wie viele Tweets gibt mit es nur einem einzelnen Emoji\n",
    "\n",
    "# Wie viele Konversationen (ein Tweet und ein Reply) gibt es mit jeweils einem Emoji?\n",
    "    end_time = datetime.datetime.now()\n",
    "print(\"Dauer: \", end_time - start_time)"
   ]
  },
  {
   "cell_type": "code",
   "execution_count": null,
   "metadata": {},
   "outputs": [],
   "source": [
    "# creating a panda object for operating the data || the whole json dataset\n",
    "df = pd.DataFrame(data) \n",
    "\n",
    "df.head() # the first 5 json strings\n",
    "\n",
    "df[\"text\"].value_counts()"
   ]
  },
  {
   "cell_type": "code",
   "execution_count": null,
   "metadata": {
    "scrolled": true
   },
   "outputs": [],
   "source": [
    "start_time = datetime.datetime.now()\n",
    "i=0\n",
    "emojis = []\n",
    "\n",
    "while i<len(data):\n",
    "    emojis.append(''.join(c for c in df[\"text\"].loc[i] if c in emoji.UNICODE_EMOJI))       \n",
    "    i+=1\n",
    "    \n",
    "end_time = datetime.datetime.now()\n",
    "print(\"Dauer: \", end_time - start_time)\n",
    "print(\"Fertig.\")"
   ]
  },
  {
   "cell_type": "code",
   "execution_count": null,
   "metadata": {},
   "outputs": [],
   "source": [
    "Counter(emojis).most_common()"
   ]
  },
  {
   "cell_type": "code",
   "execution_count": null,
   "metadata": {},
   "outputs": [],
   "source": [
    "# checking if in tweet only one emoji \n",
    "j = 0\n",
    "json_with_one_emoji = []\n",
    "while j<len(data):\n",
    "    count_emoji_in_tweet = 0\n",
    "    for char in data[j][\"text\"]:\n",
    "        if char in emoji.UNICODE_EMOJI:\n",
    "            count_emoji_in_tweet += 1\n",
    "    if count_emoji_in_tweet == 1:\n",
    "        json_with_one_emoji.append(data[j])\n",
    "        #with open(\"tweets_with_emoji.txt\",\"a\", encoding=\"utf-8\") as file:\n",
    "           #file.write(json.dumps(data[j]) + '\\n')\n",
    "        #print(\"Emojis im Tweet: \", count)\n",
    "        #print(data[j][\"text\"])\n",
    "        #print(data[j][\"id\"])\n",
    "    j += 1\n",
    "    \n",
    "print(\"fertig.\")"
   ]
  },
  {
   "cell_type": "code",
   "execution_count": null,
   "metadata": {},
   "outputs": [],
   "source": [
    "len(json_with_one_emoji)"
   ]
  },
  {
   "cell_type": "code",
   "execution_count": null,
   "metadata": {},
   "outputs": [],
   "source": [
    "for element in json_with_one_emoji:\n",
    "    with open(\"tweets_with_emoji.txt\",\"a\", encoding=\"utf-8\") as file:\n",
    "           file.write(json.dumps(element) + '\\n')"
   ]
  },
  {
   "cell_type": "code",
   "execution_count": null,
   "metadata": {
    "scrolled": true
   },
   "outputs": [],
   "source": [
    "# If you actually want to print the unique values:\n",
    "df = pd.DataFrame(data, columns=['id_str','text','in_reply_to_user_id_str']) \n",
    "#df[:100]\n",
    "\n",
    "#reply_ids =[]\n",
    "#for reply_id in df['in_reply_to_user_id_str'].unique():\n",
    "    #print(reply_id)\n"
   ]
  },
  {
   "cell_type": "code",
   "execution_count": null,
   "metadata": {
    "scrolled": false
   },
   "outputs": [],
   "source": [
    "df.info()"
   ]
  },
  {
   "cell_type": "code",
   "execution_count": null,
   "metadata": {
    "scrolled": true
   },
   "outputs": [],
   "source": [
    "df.memory_usage() "
   ]
  },
  {
   "cell_type": "code",
   "execution_count": null,
   "metadata": {},
   "outputs": [],
   "source": [
    "print(len(df['in_reply_to_user_id_str'].unique()))\n",
    "len((df['in_reply_to_user_id_str']))"
   ]
  },
  {
   "cell_type": "code",
   "execution_count": null,
   "metadata": {
    "scrolled": true
   },
   "outputs": [],
   "source": [
    "in_reply_to_user_id = df.groupby('in_reply_to_user_id') # Create a groupby object\n",
    "df2= in_reply_to_user_id.sum() # Apply the sum function to the groupby object\n",
    "df2"
   ]
  },
  {
   "cell_type": "code",
   "execution_count": null,
   "metadata": {},
   "outputs": [],
   "source": [
    "df = pd.DataFrame(data, columns=['text'])\n",
    "df.info()    \n",
    "df.memory_usage()\n",
    "type(df)"
   ]
  },
  {
   "cell_type": "code",
   "execution_count": null,
   "metadata": {},
   "outputs": [],
   "source": [
    "# keine Ausgabe bisher\n",
    "emoj = str([e for e in emoji.UNICODE_EMOJI])\n",
    "for i in range(0, len(df)):\n",
    "    if df['text'].loc[i].count(emoj) == 1:\n",
    "        print(df['text'].loc[i].count(emoj))\n",
    "    "
   ]
  },
  {
   "cell_type": "code",
   "execution_count": null,
   "metadata": {},
   "outputs": [],
   "source": [
    "import collections\n",
    "from collections import Counter\n",
    "\n",
    "### check ob nur ein emoji im tweet --> funktioniert\n",
    "### WIP: Einbau von itertation über alle tweets\n",
    "\n",
    "\n",
    "#tweet = '😂😂😀'\n",
    "#print(tweet)\n",
    "\n",
    "c = collections.Counter([e for e in emoji.UNICODE_EMOJI])\n",
    "\n",
    "\n",
    "i = 0\n",
    "index_tweets_emoji = []\n",
    "# Iteration über alle Tweets\n",
    "while i < len(df):\n",
    "    emoj = []\n",
    "    # Iteration über Tweet\n",
    "    for char in df['text'].loc[i]:\n",
    "        # Wenn char ein Emoji ist: zu list(emoj) hinzufügen\n",
    "        if char in emoji.UNICODE_EMOJI:\n",
    "            emoj.append(char)\n",
    "\n",
    "    # Wenn Tweet nur ein Emoji beiinhaltet:\n",
    "    if len(emoj) == 1:\n",
    "        #print(emoj, df['text'].loc[i])\n",
    "        # Frage: wie komme ich an die Tweets mir nur einem Emoji ran?\n",
    "        index_tweets_emoji.append(i)\n",
    "        \n",
    "    #else:\n",
    "        #print('tweet hat mehr als ein emoji')\n",
    "    i += 1  \n",
    "# Anzahl von Tweets mit nur einem Emoji\n",
    "print(len(index_tweets_emoji))\n",
    "print(index_tweets_emoji)"
   ]
  },
  {
   "cell_type": "code",
   "execution_count": null,
   "metadata": {},
   "outputs": [],
   "source": [
    "# schreibt tweet mit nur einem emoji in txt\n",
    "# funktioniert mit jupyter nicht !!!\n",
    "\n",
    "def one_emoji_in_tweet():\n",
    "    i = 0\n",
    "    index_tweets_emoji = []\n",
    "    \n",
    "    # Iteration über alle Tweets\n",
    "    while i < len(df):\n",
    "        emoj = []\n",
    "        # Iteration über Tweet\n",
    "        for char in df['text'].loc[i]:\n",
    "            # Wenn char ein Emoji ist: zu list(emoj) hinzufügen\n",
    "            if char in emoji.UNICODE_EMOJI:\n",
    "                emoj.append(char)\n",
    "        # Wenn Tweet nur ein Emoji beiinhaltet:\n",
    "        if len(emoj) == 1:\n",
    "            return(df['text'].loc[i])\n",
    "        i += 1 \n",
    "\n",
    "with open(\"tweets_with_emoji_2.txt\", \"a\", encoding=\"utf-8\") as file:\n",
    "    file.write(one_emoji_in_tweet() + '\\n')"
   ]
  },
  {
   "cell_type": "code",
   "execution_count": null,
   "metadata": {},
   "outputs": [],
   "source": [
    "while i < len(df):\n",
    "    emoj = []\n",
    "    # Iteration über Tweet\n",
    "    for char in df['text'].loc[i]:\n",
    "        # Wenn char ein Emoji ist: zu list(emoj) hinzufügen\n",
    "        if char in emoji.UNICODE_EMOJI:\n",
    "            emoj.append(char)\n",
    "\n",
    "    # Wenn Tweet nur ein Emoji beinhaltet:\n",
    "    if len(emoj) == 1:\n",
    "        #print(emoj, df['text'].loc[i])\n",
    "        # Frage: wie komme ich an die Tweets mir nur einem Emoji ran?\n",
    "        if df['text'].loc[i]\n",
    "        \n",
    "    #else:\n",
    "        #print('tweet hat mehr als ein emoji')\n",
    "    i += 1  "
   ]
  },
  {
   "cell_type": "code",
   "execution_count": null,
   "metadata": {},
   "outputs": [],
   "source": [
    "# Prozent an Tweets mit einem Emoji\n",
    "raw_data = 478874 # len(data)\n",
    "tweets_emoji = 368462 # len(index_tweets_emoji)\n",
    "p = (tweets_emoji/raw_data)*100\n",
    "print('tweets mit einem emoji: {} %'.format(round(p, 2)))"
   ]
  },
  {
   "cell_type": "code",
   "execution_count": null,
   "metadata": {},
   "outputs": [],
   "source": [
    "df = pd.DataFrame(data, columns=['id_str','text','in_reply_to_user_id_str']) \n",
    "#df['id_str'].loc[0]\n",
    "#df.columns\n",
    "#df.values\n"
   ]
  },
  {
   "cell_type": "code",
   "execution_count": null,
   "metadata": {},
   "outputs": [],
   "source": [
    "\"\"\"mit duplicated gespielt\"\"\"\n",
    "df = pd.DataFrame(data, columns=['id_str','text','in_reply_to_user_id_str'])\n",
    "#len(df)\n",
    "#478874\n",
    "\n",
    "#len(df[df['in_reply_to_user_id_str'].duplicated()].values)\n",
    "#466069\n",
    "\n",
    "#df.duplicated('in_reply_to_user_id_str').sum()\n",
    "#466069\n",
    "\n",
    "#len(df[df.duplicated(['in_reply_to_user_id_str'], keep=False)] )\n",
    "#467112\n",
    "\n",
    "#df.duplicated('in_reply_to_user_id_str')\n",
    "#df['in_reply_to_user_id_str'][df['in_reply_to_user_id_str'].duplicated(keep=False)]\n",
    "\n",
    "#pd.concat(g for _, g in df.groupby('in_reply_to_user_id_str') if len(g) < 1)\n",
    "\n"
   ]
  },
  {
   "cell_type": "code",
   "execution_count": null,
   "metadata": {},
   "outputs": [],
   "source": [
    "# funktioniert, aber was macht es?\n",
    "df[df.in_reply_to_user_id_str.isin(['3459258929'])]\n",
    "\n",
    "#\"3459258929\" in df['in_reply_to_user_id_str']\n",
    "\n",
    "# reply ids bekommen\n",
    "#df['in_reply_to_user_id_str'].iloc[0]"
   ]
  },
  {
   "cell_type": "code",
   "execution_count": null,
   "metadata": {
    "scrolled": false
   },
   "outputs": [],
   "source": [
    "# df[df.duplicated(['in_reply_to_user_id_str'], keep=False)] #funktioniert, was macht es?\n",
    "# check out:\n",
    "# https://www.shanelynn.ie/summarising-aggregation-and-grouping-data-in-python-pandas/\n",
    "\n",
    "\n",
    "# null_columns\n",
    "# checked, welcher der columns hat NULL values\n",
    "null_columns = df.columns[df.isnull().any()]\n",
    "#df[null_columns].isnull().sum()\n"
   ]
  },
  {
   "cell_type": "code",
   "execution_count": null,
   "metadata": {},
   "outputs": [],
   "source": [
    "# reply_ids identifizieren\n",
    "df = pd.DataFrame(data, columns=['id_str','text','in_reply_to_user_id_str'])\n",
    "\n",
    "reply_ids = []\n",
    "for i in df['in_reply_to_user_id_str'].get_values():\n",
    "    if i != None:\n",
    "        # reply_ids in einer Liste speichern\n",
    "        reply_ids.append(i)      \n",
    "print(reply_ids[:10])\n",
    "\n",
    "\n",
    "ids = []\n",
    "for i in df['id_str'].get_values():\n",
    "    if i != None:\n",
    "        # reply_ids in einer Liste speichern\n",
    "        ids.append(i) \n",
    "print(ids[:10])\n",
    "\n",
    "\n",
    "# liefert alle tweets mit reply_ids\n",
    "df[df.in_reply_to_user_id_str.isin([i for i in reply_ids])]\n",
    "\n",
    "# unique reply_ids = 12804\n",
    "print(len(set(reply_ids)))"
   ]
  },
  {
   "cell_type": "code",
   "execution_count": null,
   "metadata": {},
   "outputs": [],
   "source": [
    "set_id = set(ids)\n",
    "set_reply_ids = set(reply_ids)\n",
    "\n",
    "print(set_id.intersection(set_reply_ids))\n",
    "print(set_id.union(set_reply_ids))\n",
    "print(set_id.union(set_reply_ids) - set_id.intersection(set_reply_ids))"
   ]
  },
  {
   "cell_type": "code",
   "execution_count": null,
   "metadata": {},
   "outputs": [],
   "source": []
  }
 ],
 "metadata": {
  "kernelspec": {
   "display_name": "Python 3",
   "language": "python",
   "name": "python3"
  },
  "language_info": {
   "codemirror_mode": {
    "name": "ipython",
    "version": 3
   },
   "file_extension": ".py",
   "mimetype": "text/x-python",
   "name": "python",
   "nbconvert_exporter": "python",
   "pygments_lexer": "ipython3",
   "version": "3.6.4"
  }
 },
 "nbformat": 4,
 "nbformat_minor": 2
}
